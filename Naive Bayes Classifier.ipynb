{
 "cells": [
  {
   "cell_type": "markdown",
   "metadata": {},
   "source": [
    "#                                Naive Bayes Classifier Lab 2\n",
    "\n",
    "\n",
    "# Group Members: Percy Mohlala (1810589),  Nhlalala Maluleke (1836213)\n",
    "                               "
   ]
  },
  {
   "cell_type": "code",
   "execution_count": 645,
   "metadata": {},
   "outputs": [],
   "source": [
    "import numpy as np\n",
    "import pandas as pd\n",
    "from pandas import read_csv, DataFrame\n",
    "import matplotlib\n",
    "import sklearn\n",
    "import random\n",
    "import nltk\n",
    "import seaborn as sns\n",
    "import matplotlib as plt"
   ]
  },
  {
   "cell_type": "code",
   "execution_count": 366,
   "metadata": {},
   "outputs": [],
   "source": [
    "col_names = [\"label\",\"Review\"]\n",
    "dataset = pd.read_csv(\"https://github.com/Phaswamotse/Machine-Learning/raw/master/simple-food-reviews.txt\", names = col_names)"
   ]
  },
  {
   "cell_type": "code",
   "execution_count": 367,
   "metadata": {},
   "outputs": [
    {
     "data": {
      "text/html": [
       "<div>\n",
       "<style scoped>\n",
       "    .dataframe tbody tr th:only-of-type {\n",
       "        vertical-align: middle;\n",
       "    }\n",
       "\n",
       "    .dataframe tbody tr th {\n",
       "        vertical-align: top;\n",
       "    }\n",
       "\n",
       "    .dataframe thead th {\n",
       "        text-align: right;\n",
       "    }\n",
       "</style>\n",
       "<table border=\"1\" class=\"dataframe\">\n",
       "  <thead>\n",
       "    <tr style=\"text-align: right;\">\n",
       "      <th></th>\n",
       "      <th>label</th>\n",
       "      <th>Review</th>\n",
       "    </tr>\n",
       "  </thead>\n",
       "  <tbody>\n",
       "    <tr>\n",
       "      <th>0</th>\n",
       "      <td>1</td>\n",
       "      <td>the food is lovely</td>\n",
       "    </tr>\n",
       "    <tr>\n",
       "      <th>1</th>\n",
       "      <td>1</td>\n",
       "      <td>this is a great restaurant</td>\n",
       "    </tr>\n",
       "    <tr>\n",
       "      <th>2</th>\n",
       "      <td>1</td>\n",
       "      <td>i really enjoyed my food</td>\n",
       "    </tr>\n",
       "    <tr>\n",
       "      <th>3</th>\n",
       "      <td>1</td>\n",
       "      <td>i enjoyed the experience at the restaurant</td>\n",
       "    </tr>\n",
       "    <tr>\n",
       "      <th>4</th>\n",
       "      <td>1</td>\n",
       "      <td>we had a lovely meal</td>\n",
       "    </tr>\n",
       "    <tr>\n",
       "      <th>5</th>\n",
       "      <td>1</td>\n",
       "      <td>my food tasted great</td>\n",
       "    </tr>\n",
       "    <tr>\n",
       "      <th>6</th>\n",
       "      <td>1</td>\n",
       "      <td>the service was great</td>\n",
       "    </tr>\n",
       "    <tr>\n",
       "      <th>7</th>\n",
       "      <td>1</td>\n",
       "      <td>what a lovely restaurant</td>\n",
       "    </tr>\n",
       "    <tr>\n",
       "      <th>8</th>\n",
       "      <td>1</td>\n",
       "      <td>the food the service and the restaurant was g...</td>\n",
       "    </tr>\n",
       "    <tr>\n",
       "      <th>9</th>\n",
       "      <td>-1</td>\n",
       "      <td>the service is terrible</td>\n",
       "    </tr>\n",
       "  </tbody>\n",
       "</table>\n",
       "</div>"
      ],
      "text/plain": [
       "   label                                             Review\n",
       "0      1                                 the food is lovely\n",
       "1      1                         this is a great restaurant\n",
       "2      1                           i really enjoyed my food\n",
       "3      1         i enjoyed the experience at the restaurant\n",
       "4      1                               we had a lovely meal\n",
       "5      1                               my food tasted great\n",
       "6      1                              the service was great\n",
       "7      1                           what a lovely restaurant\n",
       "8      1   the food the service and the restaurant was g...\n",
       "9     -1                            the service is terrible"
      ]
     },
     "execution_count": 367,
     "metadata": {},
     "output_type": "execute_result"
    }
   ],
   "source": [
    "dataset.head(10)"
   ]
  },
  {
   "cell_type": "markdown",
   "metadata": {},
   "source": [
    "# 1. a) Training the model using 12 random reviews with Laplace smoothing"
   ]
  },
  {
   "cell_type": "code",
   "execution_count": 397,
   "metadata": {},
   "outputs": [],
   "source": [
    "from sklearn.model_selection import train_test_split\n",
    "\n",
    "#Split the dataset randomly into training and testing data using a 67/33 split\n",
    "X_train, X_test, y_train, y_test = train_test_split(dataset.Review, dataset.label, test_size=0.33) \n"
   ]
  },
  {
   "cell_type": "code",
   "execution_count": 398,
   "metadata": {},
   "outputs": [
    {
     "name": "stdout",
     "output_type": "stream",
     "text": [
      "This is our training set\n",
      "\n",
      "8      the food the service and the restaurant was g...\n",
      "4                                  we had a lovely meal\n",
      "14                         we had a terrible experience\n",
      "2                              i really enjoyed my food\n",
      "1                            this is a great restaurant\n",
      "5                                  my food tasted great\n",
      "12                              the food was really bad\n",
      "16                                       avoid the food\n",
      "9                               the service is terrible\n",
      "10                                the food tasted awful\n",
      "17                                the meal was terrible\n",
      "15                                avoid this restaurant\n",
      "Name: Review, dtype: object\n",
      "\n",
      "This is the array representation of the first five reviews of our training set with the frequency of each word\n"
     ]
    },
    {
     "data": {
      "text/plain": [
       "array([[1, 0, 0, 0, 0, 0, 1, 1, 0, 0, 0, 0, 0, 0, 1, 1, 0, 0, 3, 0, 1, 0],\n",
       "       [0, 0, 0, 0, 0, 0, 0, 0, 1, 0, 1, 1, 0, 0, 0, 0, 0, 0, 0, 0, 0, 1],\n",
       "       [0, 0, 0, 0, 0, 1, 0, 0, 1, 0, 0, 0, 0, 0, 0, 0, 0, 1, 0, 0, 0, 1],\n",
       "       [0, 0, 0, 0, 1, 0, 1, 0, 0, 0, 0, 0, 1, 1, 0, 0, 0, 0, 0, 0, 0, 0],\n",
       "       [0, 0, 0, 0, 0, 0, 0, 1, 0, 1, 0, 0, 0, 0, 1, 0, 0, 0, 0, 1, 0, 0]],\n",
       "      dtype=int64)"
      ]
     },
     "execution_count": 398,
     "metadata": {},
     "output_type": "execute_result"
    }
   ],
   "source": [
    "from sklearn.feature_extraction.text import CountVectorizer\n",
    "\n",
    "##Create a bag of words by treating each review as a vector \n",
    "##Each entry in the review's vector representation represents the presence of a word from our dictionary of words\n",
    "cv = CountVectorizer()\n",
    "X_train_count = cv.fit_transform(X_train.values)\n",
    "print(\"This is our training set\" + '\\n')\n",
    "print(X_train)\n",
    "\n",
    "print('\\n' + \"This is the array representation of the first five reviews of our training set with the frequency of each word\")\n",
    "X_train_count.toarray()[:5]"
   ]
  },
  {
   "cell_type": "code",
   "execution_count": 399,
   "metadata": {},
   "outputs": [
    {
     "data": {
      "text/plain": [
       "MultinomialNB(alpha=1.0, class_prior=None, fit_prior=True)"
      ]
     },
     "execution_count": 399,
     "metadata": {},
     "output_type": "execute_result"
    }
   ],
   "source": [
    "from sklearn.naive_bayes import MultinomialNB\n",
    "\n",
    "##Here we train our model using the Multinomial Naive Bayes Classifier from the scikit learn library\n",
    "nbClassifier = MultinomialNB(alpha=1.0)\n",
    "nbClassifier.fit(X_train_count, y_train)"
   ]
  },
  {
   "cell_type": "markdown",
   "metadata": {},
   "source": [
    "### The above output shows that we've used α=1  to smooth the table of likelihoods"
   ]
  },
  {
   "cell_type": "code",
   "execution_count": 400,
   "metadata": {},
   "outputs": [
    {
     "name": "stdout",
     "output_type": "stream",
     "text": [
      "The model has an accuracy of 0.8333\n",
      "This means that 83.33% of the reviews were predicted correctly\n",
      "The confusion matrix is:\n",
      "[[2 0]\n",
      " [1 3]]\n",
      "Here's a nice visual form of the matrix\n"
     ]
    },
    {
     "data": {
      "text/plain": [
       "<matplotlib.axes._subplots.AxesSubplot at 0x17179066508>"
      ]
     },
     "execution_count": 400,
     "metadata": {},
     "output_type": "execute_result"
    },
    {
     "data": {
      "image/png": "[encoded data removed]",
      "text/plain": [
       "<Figure size 432x288 with 2 Axes>"
      ]
     },
     "metadata": {},
     "output_type": "display_data"
    }
   ],
   "source": [
    "from sklearn.metrics import confusion_matrix\n",
    "from sklearn.metrics import accuracy_score\n",
    "\n",
    "X_test_count = cv.transform(X_test)\n",
    "\n",
    "y_pred = nbClassifier.predict(X_test_count)\n",
    "acc_score = round(accuracy_score(y_test, y_pred),4)\n",
    "conf_matrix = confusion_matrix(y_test, y_pred )\n",
    "print(\"The model has an accuracy of \" + str(acc_score) + '\\n' + \"This means that \" + str(100*acc_score) + \"% of the reviews were predicted correctly\"  )\n",
    "print(\"The confusion matrix is:\")\n",
    "print(conf_matrix )\n",
    "#True_pos = str(conf_matrix[0,0])\n",
    "#True_neg = str(conf_matrix[1,1])\n",
    "#False_pos = str(conf_matrix[0,1])\n",
    "#False_neg = str(conf_matrix[1,0])\n",
    "#print('\\n' + \"True positives: \" + True_pos + '\\n' + \"True negatives: \" + True_neg + '\\n' + \"False positives: \" + False_pos + '\\n' + \"False negatives: \" + False_neg)\n",
    "print(\"Here's a nice visual form of the matrix\")\n",
    "sns.heatmap(conf_matrix, annot=True, linewidths=.1)"
   ]
  },
  {
   "cell_type": "markdown",
   "metadata": {},
   "source": [
    "# 1.b) Training the model on all the reviews"
   ]
  },
  {
   "cell_type": "code",
   "execution_count": 401,
   "metadata": {},
   "outputs": [],
   "source": [
    "X_train = dataset['Review']\n",
    "y_train = dataset['label']\n",
    "X_train_count = cv.fit_transform(X_train.values)\n"
   ]
  },
  {
   "cell_type": "code",
   "execution_count": 402,
   "metadata": {},
   "outputs": [
    {
     "data": {
      "text/plain": [
       "MultinomialNB(alpha=1.0, class_prior=None, fit_prior=True)"
      ]
     },
     "execution_count": 402,
     "metadata": {},
     "output_type": "execute_result"
    }
   ],
   "source": [
    "##Training our model\n",
    "nbClassifier.fit(X_train_count, y_train)\n"
   ]
  },
  {
   "cell_type": "code",
   "execution_count": 403,
   "metadata": {},
   "outputs": [
    {
     "name": "stdout",
     "output_type": "stream",
     "text": [
      "The review \"The restaurant was not bad\" was predicted to be negative\n",
      "The review \"The food was not great\" was predicted to be positive\n"
     ]
    }
   ],
   "source": [
    "new_reviews = [\"The restaurant was not bad\", \"The food was not great\"]\n",
    "new_reviews_count = cv.transform(new_reviews)\n",
    "outcomes = nbClassifier.predict(new_reviews_count)\n",
    "a = 0\n",
    "for i in outcomes:\n",
    "    if i == 1:\n",
    "        print(\"The review \" +'\"' + (new_reviews[a]) + '\"' + \" was predicted to be positive\")\n",
    "        a+=1\n",
    "    else:\n",
    "        print(\"The review \" +'\"' + new_reviews[a] + '\"' + \" was predicted to be negative\")\n",
    "        a+=1"
   ]
  },
  {
   "cell_type": "markdown",
   "metadata": {},
   "source": [
    "## Review 1 confused the model because it contains the word bad which is associated mostly with negative reviews and review 2 contains the word great which is associated mostly with positive reviews in our corpus  "
   ]
  },
  {
   "cell_type": "code",
   "execution_count": null,
   "metadata": {},
   "outputs": [],
   "source": []
  },
  {
   "cell_type": "markdown",
   "metadata": {},
   "source": [
    "# 1.c) Training model without Laplace smoothing"
   ]
  },
  {
   "cell_type": "code",
   "execution_count": 424,
   "metadata": {},
   "outputs": [],
   "source": [
    "#Split the dataset randomly into training and testing data using a 67/33 split\n",
    "X_train, X_test, y_train, y_test = train_test_split(dataset.Review, dataset.label, test_size=0.33) "
   ]
  },
  {
   "cell_type": "code",
   "execution_count": 425,
   "metadata": {},
   "outputs": [
    {
     "name": "stdout",
     "output_type": "stream",
     "text": [
      "This is our training set\n",
      "\n",
      "13                the service and the food was terrible\n",
      "4                                  we had a lovely meal\n",
      "10                                the food tasted awful\n",
      "2                              i really enjoyed my food\n",
      "3            i enjoyed the experience at the restaurant\n",
      "17                                the meal was terrible\n",
      "15                                avoid this restaurant\n",
      "6                                 the service was great\n",
      "8      the food the service and the restaurant was g...\n",
      "16                                       avoid the food\n",
      "5                                  my food tasted great\n",
      "0                                    the food is lovely\n",
      "Name: Review, dtype: object\n",
      "\n",
      "This is the array representation of the first five reviews of our training set with the frequency of each word\n"
     ]
    },
    {
     "data": {
      "text/plain": [
       "array([[1, 0, 0, 0, 0, 0, 1, 0, 0, 0, 0, 0, 0, 0, 0, 1, 0, 1, 2, 0, 1, 0],\n",
       "       [0, 0, 0, 0, 0, 0, 0, 0, 1, 0, 1, 1, 0, 0, 0, 0, 0, 0, 0, 0, 0, 1],\n",
       "       [0, 0, 0, 1, 0, 0, 1, 0, 0, 0, 0, 0, 0, 0, 0, 0, 1, 0, 1, 0, 0, 0],\n",
       "       [0, 0, 0, 0, 1, 0, 1, 0, 0, 0, 0, 0, 1, 1, 0, 0, 0, 0, 0, 0, 0, 0],\n",
       "       [0, 1, 0, 0, 1, 1, 0, 0, 0, 0, 0, 0, 0, 0, 1, 0, 0, 0, 2, 0, 0, 0]],\n",
       "      dtype=int64)"
      ]
     },
     "execution_count": 425,
     "metadata": {},
     "output_type": "execute_result"
    }
   ],
   "source": [
    "##Create a bag of words by treating each review as a vector \n",
    "##Each entry in the review's vector representation represents the presence of a word from our dictionary of words\n",
    "cv = CountVectorizer()\n",
    "X_train_count = cv.fit_transform(X_train.values)\n",
    "print(\"This is our training set\" + '\\n')\n",
    "print(X_train)\n",
    "\n",
    "print('\\n' + \"This is the array representation of the first five reviews of our training set with the frequency of each word\")\n",
    "X_train_count.toarray()[:5]"
   ]
  },
  {
   "cell_type": "code",
   "execution_count": 426,
   "metadata": {},
   "outputs": [
    {
     "name": "stderr",
     "output_type": "stream",
     "text": [
      "C:\\Users\\percy\\anaconda3\\lib\\site-packages\\sklearn\\naive_bayes.py:507: UserWarning: alpha too small will result in numeric errors, setting alpha = 1.0e-10\n",
      "  'setting alpha = %.1e' % _ALPHA_MIN)\n"
     ]
    },
    {
     "data": {
      "text/plain": [
       "MultinomialNB(alpha=0.0, class_prior=None, fit_prior=True)"
      ]
     },
     "execution_count": 426,
     "metadata": {},
     "output_type": "execute_result"
    }
   ],
   "source": [
    "from sklearn.naive_bayes import MultinomialNB\n",
    "\n",
    "##Here we train our model using the Multinomial Naive Bayes Classifier with α=0\n",
    "nbClassifier = MultinomialNB(alpha=0.0, fit_prior=True, class_prior=None)\n",
    "nbClassifier.fit(X_train_count, y_train)"
   ]
  },
  {
   "cell_type": "code",
   "execution_count": 427,
   "metadata": {},
   "outputs": [
    {
     "name": "stdout",
     "output_type": "stream",
     "text": [
      "The model has now has an accuracy of 0.6667\n",
      "This means that our model has a chance of 66.67% of getting the correct predictions\n",
      "The confusion matrix is:\n",
      "[[2 2]\n",
      " [0 2]]\n",
      "Here's a nice visual form of the matrix\n"
     ]
    },
    {
     "data": {
      "text/plain": [
       "<matplotlib.axes._subplots.AxesSubplot at 0x17178db26c8>"
      ]
     },
     "execution_count": 427,
     "metadata": {},
     "output_type": "execute_result"
    },
    {
     "data": {
      "image/png": "[encoded data removed]",
      "text/plain": [
       "<Figure size 432x288 with 2 Axes>"
      ]
     },
     "metadata": {},
     "output_type": "display_data"
    }
   ],
   "source": [
    "\n",
    "X_test_count = cv.transform(X_test)\n",
    "\n",
    "y_pred = nbClassifier.predict(X_test_count)\n",
    "acc_score = round(accuracy_score(y_test, y_pred),4)\n",
    "conf_matrix = confusion_matrix(y_test, y_pred )\n",
    "print(\"The model has now has an accuracy of \" + str(acc_score) + '\\n' + \"This means that our model has a chance of \" + str(100*acc_score) + \"% of getting the correct predictions\"  )\n",
    "print(\"The confusion matrix is:\")\n",
    "print(conf_matrix )\n",
    "#True_pos = str(conf_matrix[0,0])\n",
    "#True_neg = str(conf_matrix[1,1])\n",
    "#False_pos = str(conf_matrix[0,1])\n",
    "#False_neg = str(conf_matrix[1,0])\n",
    "#print('\\n' + \"True positives: \" + True_pos + '\\n' + \"True negatives: \" + True_neg + '\\n' + \"False positives: \" + False_pos + '\\n' + \"False negatives: \" + False_neg)\n",
    "print(\"Here's a nice visual form of the matrix\")\n",
    "sns.heatmap(conf_matrix, annot=True, linewidths=.1)"
   ]
  },
  {
   "cell_type": "markdown",
   "metadata": {},
   "source": [
    "##  We've noticed that without Laplace smoothing, our model's prediction success rate goes down and the chances of predict unseen reviews correctly decreases "
   ]
  },
  {
   "cell_type": "markdown",
   "metadata": {},
   "source": [
    "# 1.d) Training model with the stop words having been removed"
   ]
  },
  {
   "cell_type": "code",
   "execution_count": 428,
   "metadata": {},
   "outputs": [],
   "source": [
    "from nltk.corpus import stopwords\n",
    "from sklearn.feature_extraction.text import TfidfVectorizer"
   ]
  },
  {
   "cell_type": "code",
   "execution_count": 429,
   "metadata": {},
   "outputs": [],
   "source": [
    "#Creating a list of words with size 1 or 2      \n",
    "stop_words = []\n",
    "\n",
    "for i in dataset['Review']:\n",
    "     r = i.split()\n",
    "     for j in r:\n",
    "        if len(j)==1 or len(j)==2:\n",
    "            stop_words.append(j)\n",
    "    \n",
    "#remove repeated words from our list    \n",
    "stop_words = list( dict.fromkeys(stop_words) )"
   ]
  },
  {
   "cell_type": "code",
   "execution_count": 430,
   "metadata": {},
   "outputs": [
    {
     "name": "stdout",
     "output_type": "stream",
     "text": [
      "['is', 'a', 'i', 'my', 'at', 'we']\n"
     ]
    }
   ],
   "source": [
    "print(stop_words)"
   ]
  },
  {
   "cell_type": "code",
   "execution_count": 431,
   "metadata": {},
   "outputs": [],
   "source": [
    "\n",
    "def remove_stop_words(sentence):\n",
    "    sent_words = sentence.split()\n",
    "    \n",
    "    resultwords  = [word for word in sent_words if word.lower() not in stop_words]\n",
    "    result = ' '.join(resultwords)\n",
    "    \n",
    "    return result \n"
   ]
  },
  {
   "cell_type": "code",
   "execution_count": 432,
   "metadata": {},
   "outputs": [
    {
     "name": "stdout",
     "output_type": "stream",
     "text": [
      "(18, 20)\n"
     ]
    }
   ],
   "source": [
    "vectorizer = TfidfVectorizer(use_idf=True, lowercase=True, stop_words=stop_words)\n",
    "#removing stop words from our dataset\n",
    "\n",
    "Y = dataset.label\n",
    "\n",
    "X = vectorizer.fit_transform(dataset.Review)\n",
    "print(X.shape)\n",
    "#print(Y.shape\n",
    "\n",
    "\n"
   ]
  },
  {
   "cell_type": "markdown",
   "metadata": {},
   "source": [
    "## initially we had 26 unique words, after removing the stop words we now have 20 unique words in our corpus"
   ]
  },
  {
   "cell_type": "code",
   "execution_count": 532,
   "metadata": {},
   "outputs": [],
   "source": [
    "X_train, X_test, y_train, y_test = train_test_split(X, Y, test_size=0.33) "
   ]
  },
  {
   "cell_type": "code",
   "execution_count": 533,
   "metadata": {},
   "outputs": [
    {
     "data": {
      "text/plain": [
       "MultinomialNB(alpha=1.0, class_prior=None, fit_prior=True)"
      ]
     },
     "execution_count": 533,
     "metadata": {},
     "output_type": "execute_result"
    }
   ],
   "source": [
    "nbClassifier = MultinomialNB(alpha=1.0)\n",
    "nbClassifier.fit(X_train,y_train)\n",
    "\n"
   ]
  },
  {
   "cell_type": "code",
   "execution_count": 535,
   "metadata": {},
   "outputs": [
    {
     "name": "stdout",
     "output_type": "stream",
     "text": [
      "The model has now has an accuracy of 0.8333\n",
      "This means that our model has a 83.33% chance of getting the correct predictions\n",
      "The confusion matrix is:\n",
      "[[2 1]\n",
      " [0 3]]\n",
      "\n",
      "Here's a nice visual form of the matrix\n"
     ]
    },
    {
     "data": {
      "text/plain": [
       "<matplotlib.axes._subplots.AxesSubplot at 0x1717c83fa88>"
      ]
     },
     "execution_count": 535,
     "metadata": {},
     "output_type": "execute_result"
    },
    {
     "data": {
      "image/png": "[encoded data removed]",
      "text/plain": [
       "<Figure size 432x288 with 2 Axes>"
      ]
     },
     "metadata": {},
     "output_type": "display_data"
    }
   ],
   "source": [
    "y_pred = nbClassifier.predict(X_test)\n",
    "\n",
    "acc_score = round(accuracy_score(y_test, y_pred),4)\n",
    "conf_matrix = confusion_matrix(y_test, y_pred )\n",
    "print(\"The model has now has an accuracy of \" + str(acc_score) + '\\n' + \"This means that our model has a \" + str(100*acc_score) + \"% chance of getting the correct predictions\"  )\n",
    "print(\"The confusion matrix is:\")\n",
    "print(conf_matrix )\n",
    "#True_pos = str(conf_matrix[0,0])\n",
    "#True_neg = str(conf_matrix[1,1])\n",
    "#False_pos = str(conf_matrix[0,1])\n",
    "#False_neg = str(conf_matrix[1,0])\n",
    "#print('\\n' + \"True positives: \" + True_pos + '\\n' + \"True negatives: \" + True_neg + '\\n' + \"False positives: \" + False_pos + '\\n' + \"False negatives: \" + False_neg)\n",
    "print('\\n'\"Here's a nice visual form of the matrix\")\n",
    "sns.heatmap(conf_matrix, annot=True, linewidths=.1)"
   ]
  },
  {
   "cell_type": "markdown",
   "metadata": {},
   "source": [
    "# Question 2\n",
    "\n",
    "# 2.a)"
   ]
  },
  {
   "cell_type": "code",
   "execution_count": 584,
   "metadata": {},
   "outputs": [],
   "source": [
    "col_names = ['Page','Book_number']\n",
    "book1 = dataset = pd.read_csv(\"https://github.com/Phaswamotse/Machine-Learning/raw/master/HP1.txt\", names = col_names)\n",
    "book2 = dataset = pd.read_csv(\"https://github.com/Phaswamotse/Machine-Learning/raw/master/HP2.txt\", names = col_names)\n",
    "book3 = dataset = pd.read_csv(\"https://github.com/Phaswamotse/Machine-Learning/raw/master/HP3.txt\", names = col_names)\n",
    "book4 = dataset = pd.read_csv(\"https://github.com/Phaswamotse/Machine-Learning/raw/master/HP4.txt\", names = col_names)\n",
    "book5 = dataset = pd.read_csv(\"https://github.com/Phaswamotse/Machine-Learning/raw/master/HP5.txt\", names = col_names)\n",
    "book6 = dataset = pd.read_csv(\"https://github.com/Phaswamotse/Machine-Learning/raw/master/HP6.txt\", names = col_names)\n",
    "book7 = dataset = pd.read_csv(\"https://github.com/Phaswamotse/Machine-Learning/raw/master/HP7.txt\", names = col_names)"
   ]
  },
  {
   "cell_type": "code",
   "execution_count": 585,
   "metadata": {},
   "outputs": [
    {
     "data": {
      "text/html": [
       "<div>\n",
       "<style scoped>\n",
       "    .dataframe tbody tr th:only-of-type {\n",
       "        vertical-align: middle;\n",
       "    }\n",
       "\n",
       "    .dataframe tbody tr th {\n",
       "        vertical-align: top;\n",
       "    }\n",
       "\n",
       "    .dataframe thead th {\n",
       "        text-align: right;\n",
       "    }\n",
       "</style>\n",
       "<table border=\"1\" class=\"dataframe\">\n",
       "  <thead>\n",
       "    <tr style=\"text-align: right;\">\n",
       "      <th></th>\n",
       "      <th>Page</th>\n",
       "      <th>Book_number</th>\n",
       "    </tr>\n",
       "  </thead>\n",
       "  <tbody>\n",
       "    <tr>\n",
       "      <th>0</th>\n",
       "      <td>mr and mrs dursley of number four privet drive...</td>\n",
       "      <td>NaN</td>\n",
       "    </tr>\n",
       "    <tr>\n",
       "      <th>1</th>\n",
       "      <td>met for several years; in fact mrs dursley pre...</td>\n",
       "      <td>NaN</td>\n",
       "    </tr>\n",
       "    <tr>\n",
       "      <th>2</th>\n",
       "      <td>the cat it stared back as mr dursley drove aro...</td>\n",
       "      <td>NaN</td>\n",
       "    </tr>\n",
       "    <tr>\n",
       "      <th>3</th>\n",
       "      <td>calls and shouted a bit more he was in a very ...</td>\n",
       "      <td>NaN</td>\n",
       "    </tr>\n",
       "  </tbody>\n",
       "</table>\n",
       "</div>"
      ],
      "text/plain": [
       "                                                Page  Book_number\n",
       "0  mr and mrs dursley of number four privet drive...          NaN\n",
       "1  met for several years; in fact mrs dursley pre...          NaN\n",
       "2  the cat it stared back as mr dursley drove aro...          NaN\n",
       "3  calls and shouted a bit more he was in a very ...          NaN"
      ]
     },
     "execution_count": 585,
     "metadata": {},
     "output_type": "execute_result"
    }
   ],
   "source": [
    "book1.head(4)"
   ]
  },
  {
   "cell_type": "code",
   "execution_count": 586,
   "metadata": {},
   "outputs": [],
   "source": [
    "book1.Book_number = 1\n",
    "book2.Book_number = 2\n",
    "book3.Book_number = 3\n",
    "book4.Book_number = 4\n",
    "book5.Book_number = 5\n",
    "book6.Book_number = 6\n",
    "book7.Book_number = 7"
   ]
  },
  {
   "cell_type": "code",
   "execution_count": 587,
   "metadata": {},
   "outputs": [
    {
     "data": {
      "text/html": [
       "<div>\n",
       "<style scoped>\n",
       "    .dataframe tbody tr th:only-of-type {\n",
       "        vertical-align: middle;\n",
       "    }\n",
       "\n",
       "    .dataframe tbody tr th {\n",
       "        vertical-align: top;\n",
       "    }\n",
       "\n",
       "    .dataframe thead th {\n",
       "        text-align: right;\n",
       "    }\n",
       "</style>\n",
       "<table border=\"1\" class=\"dataframe\">\n",
       "  <thead>\n",
       "    <tr style=\"text-align: right;\">\n",
       "      <th></th>\n",
       "      <th>Page</th>\n",
       "      <th>Book_number</th>\n",
       "    </tr>\n",
       "  </thead>\n",
       "  <tbody>\n",
       "    <tr>\n",
       "      <th>0</th>\n",
       "      <td>mr and mrs dursley of number four privet drive...</td>\n",
       "      <td>1</td>\n",
       "    </tr>\n",
       "    <tr>\n",
       "      <th>1</th>\n",
       "      <td>met for several years; in fact mrs dursley pre...</td>\n",
       "      <td>1</td>\n",
       "    </tr>\n",
       "  </tbody>\n",
       "</table>\n",
       "</div>"
      ],
      "text/plain": [
       "                                                Page  Book_number\n",
       "0  mr and mrs dursley of number four privet drive...            1\n",
       "1  met for several years; in fact mrs dursley pre...            1"
      ]
     },
     "execution_count": 587,
     "metadata": {},
     "output_type": "execute_result"
    }
   ],
   "source": [
    "book1.head(2)\n"
   ]
  },
  {
   "cell_type": "code",
   "execution_count": 588,
   "metadata": {},
   "outputs": [
    {
     "data": {
      "text/html": [
       "<div>\n",
       "<style scoped>\n",
       "    .dataframe tbody tr th:only-of-type {\n",
       "        vertical-align: middle;\n",
       "    }\n",
       "\n",
       "    .dataframe tbody tr th {\n",
       "        vertical-align: top;\n",
       "    }\n",
       "\n",
       "    .dataframe thead th {\n",
       "        text-align: right;\n",
       "    }\n",
       "</style>\n",
       "<table border=\"1\" class=\"dataframe\">\n",
       "  <thead>\n",
       "    <tr style=\"text-align: right;\">\n",
       "      <th></th>\n",
       "      <th>Page</th>\n",
       "      <th>Book_number</th>\n",
       "    </tr>\n",
       "  </thead>\n",
       "  <tbody>\n",
       "    <tr>\n",
       "      <th>0</th>\n",
       "      <td>the worst birthday not for the first time an a...</td>\n",
       "      <td>2</td>\n",
       "    </tr>\n",
       "    <tr>\n",
       "      <th>1</th>\n",
       "      <td>i want more bacon theres more in the frying pa...</td>\n",
       "      <td>2</td>\n",
       "    </tr>\n",
       "  </tbody>\n",
       "</table>\n",
       "</div>"
      ],
      "text/plain": [
       "                                                Page  Book_number\n",
       "0  the worst birthday not for the first time an a...            2\n",
       "1  i want more bacon theres more in the frying pa...            2"
      ]
     },
     "execution_count": 588,
     "metadata": {},
     "output_type": "execute_result"
    }
   ],
   "source": [
    "book2.head(2)"
   ]
  },
  {
   "cell_type": "code",
   "execution_count": 589,
   "metadata": {},
   "outputs": [
    {
     "data": {
      "text/html": [
       "<div>\n",
       "<style scoped>\n",
       "    .dataframe tbody tr th:only-of-type {\n",
       "        vertical-align: middle;\n",
       "    }\n",
       "\n",
       "    .dataframe tbody tr th {\n",
       "        vertical-align: top;\n",
       "    }\n",
       "\n",
       "    .dataframe thead th {\n",
       "        text-align: right;\n",
       "    }\n",
       "</style>\n",
       "<table border=\"1\" class=\"dataframe\">\n",
       "  <thead>\n",
       "    <tr style=\"text-align: right;\">\n",
       "      <th></th>\n",
       "      <th>Page</th>\n",
       "      <th>Book_number</th>\n",
       "    </tr>\n",
       "  </thead>\n",
       "  <tbody>\n",
       "    <tr>\n",
       "      <th>0</th>\n",
       "      <td>owl post harry potter was a highly unusual boy...</td>\n",
       "      <td>3</td>\n",
       "    </tr>\n",
       "    <tr>\n",
       "      <th>1</th>\n",
       "      <td>nonmagic people more commonly known as muggles...</td>\n",
       "      <td>3</td>\n",
       "    </tr>\n",
       "  </tbody>\n",
       "</table>\n",
       "</div>"
      ],
      "text/plain": [
       "                                                Page  Book_number\n",
       "0  owl post harry potter was a highly unusual boy...            3\n",
       "1  nonmagic people more commonly known as muggles...            3"
      ]
     },
     "execution_count": 589,
     "metadata": {},
     "output_type": "execute_result"
    }
   ],
   "source": [
    "book3.head(2)"
   ]
  },
  {
   "cell_type": "code",
   "execution_count": 590,
   "metadata": {},
   "outputs": [
    {
     "data": {
      "text/html": [
       "<div>\n",
       "<style scoped>\n",
       "    .dataframe tbody tr th:only-of-type {\n",
       "        vertical-align: middle;\n",
       "    }\n",
       "\n",
       "    .dataframe tbody tr th {\n",
       "        vertical-align: top;\n",
       "    }\n",
       "\n",
       "    .dataframe thead th {\n",
       "        text-align: right;\n",
       "    }\n",
       "</style>\n",
       "<table border=\"1\" class=\"dataframe\">\n",
       "  <thead>\n",
       "    <tr style=\"text-align: right;\">\n",
       "      <th></th>\n",
       "      <th>Page</th>\n",
       "      <th>Book_number</th>\n",
       "    </tr>\n",
       "  </thead>\n",
       "  <tbody>\n",
       "    <tr>\n",
       "      <th>0</th>\n",
       "      <td>the riddle house the villagers of little hangl...</td>\n",
       "      <td>4</td>\n",
       "    </tr>\n",
       "    <tr>\n",
       "      <th>1</th>\n",
       "      <td>kept and impressive a maid had entered the dr...</td>\n",
       "      <td>4</td>\n",
       "    </tr>\n",
       "  </tbody>\n",
       "</table>\n",
       "</div>"
      ],
      "text/plain": [
       "                                                Page  Book_number\n",
       "0  the riddle house the villagers of little hangl...            4\n",
       "1   kept and impressive a maid had entered the dr...            4"
      ]
     },
     "execution_count": 590,
     "metadata": {},
     "output_type": "execute_result"
    }
   ],
   "source": [
    "book4.head(2)"
   ]
  },
  {
   "cell_type": "code",
   "execution_count": 591,
   "metadata": {},
   "outputs": [
    {
     "data": {
      "text/html": [
       "<div>\n",
       "<style scoped>\n",
       "    .dataframe tbody tr th:only-of-type {\n",
       "        vertical-align: middle;\n",
       "    }\n",
       "\n",
       "    .dataframe tbody tr th {\n",
       "        vertical-align: top;\n",
       "    }\n",
       "\n",
       "    .dataframe thead th {\n",
       "        text-align: right;\n",
       "    }\n",
       "</style>\n",
       "<table border=\"1\" class=\"dataframe\">\n",
       "  <thead>\n",
       "    <tr style=\"text-align: right;\">\n",
       "      <th></th>\n",
       "      <th>Page</th>\n",
       "      <th>Book_number</th>\n",
       "    </tr>\n",
       "  </thead>\n",
       "  <tbody>\n",
       "    <tr>\n",
       "      <th>0</th>\n",
       "      <td>dudley demented the hottest day of the summer ...</td>\n",
       "      <td>5</td>\n",
       "    </tr>\n",
       "    <tr>\n",
       "      <th>1</th>\n",
       "      <td>punishable by law but as he had hidden himself...</td>\n",
       "      <td>5</td>\n",
       "    </tr>\n",
       "  </tbody>\n",
       "</table>\n",
       "</div>"
      ],
      "text/plain": [
       "                                                Page  Book_number\n",
       "0  dudley demented the hottest day of the summer ...            5\n",
       "1  punishable by law but as he had hidden himself...            5"
      ]
     },
     "execution_count": 591,
     "metadata": {},
     "output_type": "execute_result"
    }
   ],
   "source": [
    "book5.head(2)"
   ]
  },
  {
   "cell_type": "code",
   "execution_count": 592,
   "metadata": {},
   "outputs": [
    {
     "data": {
      "text/html": [
       "<div>\n",
       "<style scoped>\n",
       "    .dataframe tbody tr th:only-of-type {\n",
       "        vertical-align: middle;\n",
       "    }\n",
       "\n",
       "    .dataframe tbody tr th {\n",
       "        vertical-align: top;\n",
       "    }\n",
       "\n",
       "    .dataframe thead th {\n",
       "        text-align: right;\n",
       "    }\n",
       "</style>\n",
       "<table border=\"1\" class=\"dataframe\">\n",
       "  <thead>\n",
       "    <tr style=\"text-align: right;\">\n",
       "      <th></th>\n",
       "      <th>Page</th>\n",
       "      <th>Book_number</th>\n",
       "    </tr>\n",
       "  </thead>\n",
       "  <tbody>\n",
       "    <tr>\n",
       "      <th>0</th>\n",
       "      <td>the other minister it was nearing midnight and...</td>\n",
       "      <td>6</td>\n",
       "    </tr>\n",
       "    <tr>\n",
       "      <th>1</th>\n",
       "      <td>supposed to have stopped that bridge collapsin...</td>\n",
       "      <td>6</td>\n",
       "    </tr>\n",
       "  </tbody>\n",
       "</table>\n",
       "</div>"
      ],
      "text/plain": [
       "                                                Page  Book_number\n",
       "0  the other minister it was nearing midnight and...            6\n",
       "1  supposed to have stopped that bridge collapsin...            6"
      ]
     },
     "execution_count": 592,
     "metadata": {},
     "output_type": "execute_result"
    }
   ],
   "source": [
    "book6.head(2)"
   ]
  },
  {
   "cell_type": "code",
   "execution_count": 593,
   "metadata": {},
   "outputs": [
    {
     "data": {
      "text/html": [
       "<div>\n",
       "<style scoped>\n",
       "    .dataframe tbody tr th:only-of-type {\n",
       "        vertical-align: middle;\n",
       "    }\n",
       "\n",
       "    .dataframe tbody tr th {\n",
       "        vertical-align: top;\n",
       "    }\n",
       "\n",
       "    .dataframe thead th {\n",
       "        text-align: right;\n",
       "    }\n",
       "</style>\n",
       "<table border=\"1\" class=\"dataframe\">\n",
       "  <thead>\n",
       "    <tr style=\"text-align: right;\">\n",
       "      <th></th>\n",
       "      <th>Page</th>\n",
       "      <th>Book_number</th>\n",
       "    </tr>\n",
       "  </thead>\n",
       "  <tbody>\n",
       "    <tr>\n",
       "      <th>0</th>\n",
       "      <td>the dark lord ascending the two men appeared o...</td>\n",
       "      <td>7</td>\n",
       "    </tr>\n",
       "    <tr>\n",
       "      <th>1</th>\n",
       "      <td>snape nodded but did not elaborate they turned...</td>\n",
       "      <td>7</td>\n",
       "    </tr>\n",
       "  </tbody>\n",
       "</table>\n",
       "</div>"
      ],
      "text/plain": [
       "                                                Page  Book_number\n",
       "0  the dark lord ascending the two men appeared o...            7\n",
       "1  snape nodded but did not elaborate they turned...            7"
      ]
     },
     "execution_count": 593,
     "metadata": {},
     "output_type": "execute_result"
    }
   ],
   "source": [
    "book7.head(2)"
   ]
  },
  {
   "cell_type": "code",
   "execution_count": 594,
   "metadata": {},
   "outputs": [],
   "source": [
    "dataset = book1.append([book2, book3, book4, book5, book6, book7], ignore_index=True)"
   ]
  },
  {
   "cell_type": "code",
   "execution_count": 595,
   "metadata": {},
   "outputs": [
    {
     "data": {
      "text/html": [
       "<div>\n",
       "<style scoped>\n",
       "    .dataframe tbody tr th:only-of-type {\n",
       "        vertical-align: middle;\n",
       "    }\n",
       "\n",
       "    .dataframe tbody tr th {\n",
       "        vertical-align: top;\n",
       "    }\n",
       "\n",
       "    .dataframe thead th {\n",
       "        text-align: right;\n",
       "    }\n",
       "</style>\n",
       "<table border=\"1\" class=\"dataframe\">\n",
       "  <thead>\n",
       "    <tr style=\"text-align: right;\">\n",
       "      <th></th>\n",
       "      <th>Page</th>\n",
       "      <th>Book_number</th>\n",
       "    </tr>\n",
       "  </thead>\n",
       "  <tbody>\n",
       "    <tr>\n",
       "      <th>0</th>\n",
       "      <td>mr and mrs dursley of number four privet drive...</td>\n",
       "      <td>1</td>\n",
       "    </tr>\n",
       "    <tr>\n",
       "      <th>1</th>\n",
       "      <td>met for several years; in fact mrs dursley pre...</td>\n",
       "      <td>1</td>\n",
       "    </tr>\n",
       "    <tr>\n",
       "      <th>2</th>\n",
       "      <td>the cat it stared back as mr dursley drove aro...</td>\n",
       "      <td>1</td>\n",
       "    </tr>\n",
       "    <tr>\n",
       "      <th>3</th>\n",
       "      <td>calls and shouted a bit more he was in a very ...</td>\n",
       "      <td>1</td>\n",
       "    </tr>\n",
       "    <tr>\n",
       "      <th>4</th>\n",
       "      <td>he found it a lot harder to concentrate on dri...</td>\n",
       "      <td>1</td>\n",
       "    </tr>\n",
       "    <tr>\n",
       "      <th>...</th>\n",
       "      <td>...</td>\n",
       "      <td>...</td>\n",
       "    </tr>\n",
       "    <tr>\n",
       "      <th>4695</th>\n",
       "      <td>back on the platform they found lily and hugo ...</td>\n",
       "      <td>7</td>\n",
       "    </tr>\n",
       "    <tr>\n",
       "      <th>4696</th>\n",
       "      <td>youre right sorry said ron but unable to help ...</td>\n",
       "      <td>7</td>\n",
       "    </tr>\n",
       "    <tr>\n",
       "      <th>4697</th>\n",
       "      <td>no said harry firmly you and a1 will share a r...</td>\n",
       "      <td>7</td>\n",
       "    </tr>\n",
       "    <tr>\n",
       "      <th>4698</th>\n",
       "      <td>ginny kissed albus goodbye see you at christma...</td>\n",
       "      <td>7</td>\n",
       "    </tr>\n",
       "    <tr>\n",
       "      <th>4699</th>\n",
       "      <td>he had never told any of his children that bef...</td>\n",
       "      <td>7</td>\n",
       "    </tr>\n",
       "  </tbody>\n",
       "</table>\n",
       "<p>4700 rows × 2 columns</p>\n",
       "</div>"
      ],
      "text/plain": [
       "                                                   Page  Book_number\n",
       "0     mr and mrs dursley of number four privet drive...            1\n",
       "1     met for several years; in fact mrs dursley pre...            1\n",
       "2     the cat it stared back as mr dursley drove aro...            1\n",
       "3     calls and shouted a bit more he was in a very ...            1\n",
       "4     he found it a lot harder to concentrate on dri...            1\n",
       "...                                                 ...          ...\n",
       "4695  back on the platform they found lily and hugo ...            7\n",
       "4696  youre right sorry said ron but unable to help ...            7\n",
       "4697  no said harry firmly you and a1 will share a r...            7\n",
       "4698  ginny kissed albus goodbye see you at christma...            7\n",
       "4699  he had never told any of his children that bef...            7\n",
       "\n",
       "[4700 rows x 2 columns]"
      ]
     },
     "execution_count": 595,
     "metadata": {},
     "output_type": "execute_result"
    }
   ],
   "source": [
    "dataset"
   ]
  },
  {
   "cell_type": "code",
   "execution_count": 596,
   "metadata": {},
   "outputs": [],
   "source": [
    "X_train, X_test, y_train, y_test = train_test_split(dataset.Page, dataset.Book_number, test_size=0.2)"
   ]
  },
  {
   "cell_type": "code",
   "execution_count": 597,
   "metadata": {},
   "outputs": [
    {
     "name": "stdout",
     "output_type": "stream",
     "text": [
      "Here's a few examples taken from our training set\n",
      "\n",
      "1359    that mark barked mr crouch harry potter  and m...\n",
      "1068    horrified he looked around malfoy had thrown h...\n",
      "4308    gave it to his son and then he greeted death a...\n",
      "1938     just answer no  i wont do it i wont say it  j...\n",
      "1075    had no time or opportunity to go and see hagri...\n",
      "                              ...                        \n",
      "768      there you are harry said a voice before harry...\n",
      "1015    ruddy brilliant boomed hagrid over the heads o...\n",
      "1242     uncle vernon finished reading put his hand ba...\n",
      "668     the entrance to the chamber of secrets he said...\n",
      "3996    times change said hermione now show us that de...\n",
      "Name: Page, Length: 3760, dtype: object\n"
     ]
    }
   ],
   "source": [
    "cv = CountVectorizer()\n",
    "X_train_count = cv.fit_transform(X_train.values)\n",
    "print(\"Here's a few examples taken from our training set\" + '\\n')\n",
    "print(X_train)"
   ]
  },
  {
   "cell_type": "code",
   "execution_count": 598,
   "metadata": {},
   "outputs": [
    {
     "data": {
      "text/plain": [
       "MultinomialNB(alpha=1.0, class_prior=None, fit_prior=True)"
      ]
     },
     "execution_count": 598,
     "metadata": {},
     "output_type": "execute_result"
    }
   ],
   "source": [
    "nbClassifier = MultinomialNB(alpha=1.0)\n",
    "nbClassifier.fit(X_train_count, y_train)"
   ]
  },
  {
   "cell_type": "code",
   "execution_count": 600,
   "metadata": {},
   "outputs": [
    {
     "name": "stdout",
     "output_type": "stream",
     "text": [
      "Our model has an accuracy of: 0.7213\n",
      "This means that our model has a 72.13% chance of getting the correct predictions\n",
      "The confusion matrix is:\n",
      "[[ 26   3   3  11  26   0   4]\n",
      " [  0  25   2  10  26   5   7]\n",
      " [  2   0  51  11  26   3   1]\n",
      " [  0   0   0 137  21   2   6]\n",
      " [  0   2   0   4 203   7  10]\n",
      " [  0   0   0   1  32  99  13]\n",
      " [  0   0   0   3  17   4 137]]\n",
      "\n",
      "Below is a visual representation of the confusion matrix\n"
     ]
    },
    {
     "data": {
      "text/plain": [
       "<matplotlib.axes._subplots.AxesSubplot at 0x17100099788>"
      ]
     },
     "execution_count": 600,
     "metadata": {},
     "output_type": "execute_result"
    },
    {
     "data": {
      "image/png": "[encoded data removed]",
      "text/plain": [
       "<Figure size 432x288 with 2 Axes>"
      ]
     },
     "metadata": {},
     "output_type": "display_data"
    }
   ],
   "source": [
    "from sklearn.metrics import confusion_matrix\n",
    "from sklearn.metrics import accuracy_score\n",
    "\n",
    "X_test_count = cv.transform(X_test)\n",
    "\n",
    "y_pred = nbClassifier.predict(X_test_count)\n",
    "acc_score = round(accuracy_score(y_test, y_pred),4)\n",
    "conf_matrix = confusion_matrix(y_test, y_pred )\n",
    "print(\"Our model has an accuracy of: \" + str(acc_score))\n",
    "print(\"This means that our model has a \" + str(round(100*acc_score,2)) + \"% chance of getting the correct predictions\"  )\n",
    "print(\"The confusion matrix is:\")\n",
    "print(conf_matrix )\n",
    "print('\\n' + \"Below is a visual representation of the confusion matrix\")\n",
    "sns.heatmap(conf_matrix, annot=True, linewidths=.1)"
   ]
  },
  {
   "cell_type": "markdown",
   "metadata": {},
   "source": [
    "# 2.b) Using different smoothing values"
   ]
  },
  {
   "cell_type": "code",
   "execution_count": 601,
   "metadata": {},
   "outputs": [],
   "source": [
    "##Here we create a function that splits the dataset into training, testing, and validation sets with on an 80/10/10 split\n",
    "\n",
    "def train_validate_test_split(df, train_percent=.8, validate_percent=.1, seed=None):\n",
    "    np.random.seed(seed)\n",
    "    perm = np.random.permutation(df.index)\n",
    "    m = len(df.index)\n",
    "    train_end = int(train_percent * m)\n",
    "    validate_end = int(validate_percent * m) + train_end\n",
    "    train = df.iloc[perm[:train_end]]\n",
    "    validate = df.iloc[perm[train_end:validate_end]]\n",
    "    test = df.iloc[perm[validate_end:]]\n",
    "    return train, validate, test\n",
    "\n"
   ]
  },
  {
   "cell_type": "code",
   "execution_count": 602,
   "metadata": {},
   "outputs": [],
   "source": [
    "train, validate, test = train_validate_test_split(dataset)\n"
   ]
  },
  {
   "cell_type": "code",
   "execution_count": 603,
   "metadata": {},
   "outputs": [
    {
     "data": {
      "text/plain": [
       "(4700, 2)"
      ]
     },
     "execution_count": 603,
     "metadata": {},
     "output_type": "execute_result"
    }
   ],
   "source": [
    "dataset.shape"
   ]
  },
  {
   "cell_type": "code",
   "execution_count": 604,
   "metadata": {},
   "outputs": [
    {
     "data": {
      "text/plain": [
       "(3760, 2)"
      ]
     },
     "execution_count": 604,
     "metadata": {},
     "output_type": "execute_result"
    }
   ],
   "source": [
    "train.shape"
   ]
  },
  {
   "cell_type": "code",
   "execution_count": 605,
   "metadata": {},
   "outputs": [
    {
     "data": {
      "text/plain": [
       "(470, 2)"
      ]
     },
     "execution_count": 605,
     "metadata": {},
     "output_type": "execute_result"
    }
   ],
   "source": [
    "test.shape"
   ]
  },
  {
   "cell_type": "code",
   "execution_count": 606,
   "metadata": {},
   "outputs": [
    {
     "data": {
      "text/plain": [
       "(470, 2)"
      ]
     },
     "execution_count": 606,
     "metadata": {},
     "output_type": "execute_result"
    }
   ],
   "source": [
    "validate.shape"
   ]
  },
  {
   "cell_type": "code",
   "execution_count": 607,
   "metadata": {},
   "outputs": [],
   "source": [
    "nbClassifier1 = MultinomialNB(alpha = 1e-1)\n",
    "nbClassifier2 = MultinomialNB(alpha = 1e-2)\n",
    "nbClassifier3 = MultinomialNB(alpha = 1e-3)\n",
    "nbClassifier4 = MultinomialNB(alpha = 1e-4)\n",
    "nbClassifier5 = MultinomialNB(alpha = 1e-5)\n",
    "nbClassifier6 = MultinomialNB(alpha = 1e-6)\n"
   ]
  },
  {
   "cell_type": "code",
   "execution_count": 613,
   "metadata": {},
   "outputs": [],
   "source": [
    "X_train = train.Page\n",
    "y_train = train.Book_number\n",
    "\n",
    "X_test = test.Page\n",
    "y_test = test.Book_number\n",
    "\n",
    "X_validate = validate.Page\n",
    "y_validate = validate.Book_number\n",
    "\n"
   ]
  },
  {
   "cell_type": "code",
   "execution_count": 623,
   "metadata": {},
   "outputs": [
    {
     "data": {
      "text/plain": [
       "MultinomialNB(alpha=0.1, class_prior=None, fit_prior=True)"
      ]
     },
     "execution_count": 623,
     "metadata": {},
     "output_type": "execute_result"
    }
   ],
   "source": [
    "X_train_count = cv.fit_transform(X_train.values)\n",
    "nbClassifier1.fit(X_train_count, y_train)\n",
    "\n"
   ]
  },
  {
   "cell_type": "code",
   "execution_count": 624,
   "metadata": {},
   "outputs": [
    {
     "data": {
      "text/plain": [
       "MultinomialNB(alpha=0.01, class_prior=None, fit_prior=True)"
      ]
     },
     "execution_count": 624,
     "metadata": {},
     "output_type": "execute_result"
    }
   ],
   "source": [
    "nbClassifier2.fit(X_train_count, y_train)\n"
   ]
  },
  {
   "cell_type": "code",
   "execution_count": 625,
   "metadata": {},
   "outputs": [
    {
     "data": {
      "text/plain": [
       "MultinomialNB(alpha=0.001, class_prior=None, fit_prior=True)"
      ]
     },
     "execution_count": 625,
     "metadata": {},
     "output_type": "execute_result"
    }
   ],
   "source": [
    "nbClassifier3.fit(X_train_count, y_train)\n"
   ]
  },
  {
   "cell_type": "code",
   "execution_count": 626,
   "metadata": {},
   "outputs": [
    {
     "data": {
      "text/plain": [
       "MultinomialNB(alpha=0.0001, class_prior=None, fit_prior=True)"
      ]
     },
     "execution_count": 626,
     "metadata": {},
     "output_type": "execute_result"
    }
   ],
   "source": [
    "nbClassifier4.fit(X_train_count, y_train)\n"
   ]
  },
  {
   "cell_type": "code",
   "execution_count": 627,
   "metadata": {},
   "outputs": [
    {
     "data": {
      "text/plain": [
       "MultinomialNB(alpha=1e-05, class_prior=None, fit_prior=True)"
      ]
     },
     "execution_count": 627,
     "metadata": {},
     "output_type": "execute_result"
    }
   ],
   "source": [
    "nbClassifier5.fit(X_train_count, y_train)\n"
   ]
  },
  {
   "cell_type": "code",
   "execution_count": 628,
   "metadata": {},
   "outputs": [
    {
     "data": {
      "text/plain": [
       "MultinomialNB(alpha=1e-06, class_prior=None, fit_prior=True)"
      ]
     },
     "execution_count": 628,
     "metadata": {},
     "output_type": "execute_result"
    }
   ],
   "source": [
    "nbClassifier6.fit(X_train_count, y_train)"
   ]
  },
  {
   "cell_type": "code",
   "execution_count": 632,
   "metadata": {},
   "outputs": [
    {
     "name": "stdout",
     "output_type": "stream",
     "text": [
      "The different models perfomed as follows based on the validation data:\n",
      "\n",
      "Model 1 has an accuracy of 0.8255\n",
      "Model 2 has an accuracy of 0.8128\n",
      "Model 3 has an accuracy of 0.7638\n",
      "Model 4 has an accuracy of 0.7426\n",
      "Model 5 has an accuracy of 0.7191\n",
      "Model 6 has an accuracy of 0.6872\n",
      "\n",
      "The best model is model 1 as it has the highest accuracy\n"
     ]
    }
   ],
   "source": [
    "X_validate_count = cv.transform(X_validate)\n",
    "\n",
    "indices = np.zeros(6)\n",
    "\n",
    "print(\"The different models perfomed as follows based on the validation data:\" + \"\\n\")\n",
    "\n",
    "y_pred = nbClassifier1.predict(X_validate_count)\n",
    "acc_score = round(accuracy_score(y_validate, y_pred),4)\n",
    "print(\"Model 1 has an accuracy of \" + str(acc_score))\n",
    "indices[0] = acc_score\n",
    "\n",
    "y_pred = nbClassifier2.predict(X_validate_count)\n",
    "acc_score = round(accuracy_score(y_validate, y_pred),4)\n",
    "print(\"Model 2 has an accuracy of \" + str(acc_score))\n",
    "indices[1] = acc_score\n",
    "\n",
    "y_pred = nbClassifier3.predict(X_validate_count)\n",
    "acc_score = round(accuracy_score(y_validate, y_pred),4)\n",
    "print(\"Model 3 has an accuracy of \" + str(acc_score))\n",
    "indices[2] = acc_score\n",
    "\n",
    "y_pred = nbClassifier4.predict(X_validate_count)\n",
    "acc_score = round(accuracy_score(y_validate, y_pred),4)\n",
    "print(\"Model 4 has an accuracy of \" + str(acc_score))\n",
    "indices[3] = acc_score\n",
    "\n",
    "y_pred = nbClassifier5.predict(X_validate_count)\n",
    "acc_score = round(accuracy_score(y_validate, y_pred),4)\n",
    "print(\"Model 5 has an accuracy of \" + str(acc_score))\n",
    "indices[4] = acc_score\n",
    "\n",
    "y_pred = nbClassifier6.predict(X_validate_count)\n",
    "acc_score = round(accuracy_score(y_validate, y_pred),4)\n",
    "print(\"Model 6 has an accuracy of \" + str(acc_score))\n",
    "indices[5] = acc_score\n",
    "\n",
    "rate = 0.0\n",
    "best_model = 0\n",
    "\n",
    "for i in range(6):\n",
    "    if indices[i]>rate:\n",
    "        rate = indices[i]\n",
    "        best_model = i + 1\n",
    "\n",
    "print('\\n' + \"The best model is model \" + str(best_model) +\" as it has the highest accuracy\")\n",
    "    \n"
   ]
  },
  {
   "cell_type": "markdown",
   "metadata": {},
   "source": [
    "## Based on the above results, we can see that the choice of smoothing value has a huge impact on the perfomance of a model. A higher smoothing value results in a more accurate model while a smaller smoothing value results in a model that's not too accurate."
   ]
  },
  {
   "cell_type": "markdown",
   "metadata": {},
   "source": [
    "# 2.c)"
   ]
  },
  {
   "cell_type": "code",
   "execution_count": 638,
   "metadata": {},
   "outputs": [
    {
     "name": "stdout",
     "output_type": "stream",
     "text": [
      "The confusion matrix of our best model(model 1) is :\n",
      "\n",
      "[[31  1  2  0  2  0  0]\n",
      " [ 1 39  0  2  1  5  0]\n",
      " [ 0  1 41  1  3  4  2]\n",
      " [ 3  1  1 68  4  4  5]\n",
      " [ 3  0  1  5 91  8  4]\n",
      " [ 0  1  1  0  8 43  8]\n",
      " [ 3  0  1  1  6  5 59]]\n",
      "\n",
      "Below is a visual representation of the confusion matrix\n",
      "The model has an accuracy of 79.15%\n"
     ]
    },
    {
     "data": {
      "image/png": "[encoded data removed]",
      "text/plain": [
       "<Figure size 432x288 with 2 Axes>"
      ]
     },
     "metadata": {},
     "output_type": "display_data"
    }
   ],
   "source": [
    "if best_model == 1:\n",
    "    \n",
    "    X_test_count = cv.transform(X_test)\n",
    "\n",
    "    y_pred = nbClassifier1.predict(X_test_count)\n",
    "    acc_score = round(accuracy_score(y_test, y_pred),4)\n",
    "    conf_matrix = confusion_matrix(y_test, y_pred )\n",
    "    print(\"The confusion matrix of our best model(model 1) is :\" + '\\n')\n",
    "    print(conf_matrix )\n",
    "    print('\\n' + \"Below is a visual representation of the confusion matrix\")\n",
    "    sns.heatmap(conf_matrix, annot=True, linewidths=.1)\n",
    "    print(\"The model has an accuracy of \" + str(round(100*acc_score,2)) + \"%\")\n",
    "    \n",
    "elif best_model == 2:\n",
    "    X_test_count = cv.transform(X_test)\n",
    "\n",
    "    y_pred = nbClassifier2.predict(X_test_count)\n",
    "    acc_score = round(accuracy_score(y_test, y_pred),4)\n",
    "    conf_matrix = confusion_matrix(y_test, y_pred )\n",
    "    print(\"The confusion matrix of our best model(model 2) is :\" + '\\n')\n",
    "    print(conf_matrix )\n",
    "    print('\\n' + \"Below is a visual representation of the confusion matrix\")\n",
    "    sns.heatmap(conf_matrix, annot=True, linewidths=.1)\n",
    "    print(\"The model has an accuracy of \" + str(round(100*acc_score,2)) + \"%\")\n",
    "\n",
    "elif best_model == 3:\n",
    "    X_test_count = cv.transform(X_test)\n",
    "\n",
    "    y_pred = nbClassifier3.predict(X_test_count)\n",
    "    acc_score = round(accuracy_score(y_test, y_pred),4)\n",
    "    conf_matrix = confusion_matrix(y_test, y_pred )\n",
    "    print(\"The confusion matrix of our best model(model 3) is :\" + '\\n')\n",
    "    print(conf_matrix )\n",
    "    print('\\n' + \"Below is a visual representation of the confusion matrix\")\n",
    "    sns.heatmap(conf_matrix, annot=True, linewidths=.1)\n",
    "    print(\"The model has an accuracy of \" + str(round(100*acc_score,2)) + \"%\")\n",
    "\n",
    "elif best_model == 4:\n",
    "    X_test_count = cv.transform(X_test)\n",
    "\n",
    "    y_pred = nbClassifier4.predict(X_test_count)\n",
    "    acc_score = round(accuracy_score(y_test, y_pred),4)\n",
    "    conf_matrix = confusion_matrix(y_test, y_pred )\n",
    "    print(\"The confusion matrix of our best model(model 4) is :\" + '\\n')\n",
    "    print(conf_matrix )\n",
    "    print('\\n' + \"Below is a visual representation of the confusion matrix\")\n",
    "    sns.heatmap(conf_matrix, annot=True, linewidths=.1)\n",
    "    print(\"The model has an accuracy of \" + str(round(100*acc_score,2)) + \"%\")\n",
    "\n",
    "elif best_model == 5:\n",
    "    X_test_count = cv.transform(X_test)\n",
    "\n",
    "    y_pred = nbClassifier5.predict(X_test_count)\n",
    "    acc_score = round(accuracy_score(y_test, y_pred),4)\n",
    "    conf_matrix = confusion_matrix(y_test, y_pred )\n",
    "    print(\"The confusion matrix of our best model(model 5) is :\" + '\\n')\n",
    "    print(conf_matrix )\n",
    "    print('\\n' + \"Below is a visual representation of the confusion matrix\")\n",
    "    sns.heatmap(conf_matrix, annot=True, linewidths=.1)\n",
    "    print(\"The model has an accuracy of \" + str(round(100*acc_score,2)) + \"%\")\n",
    "\n",
    "elif best_model == 6:\n",
    "    X_test_count = cv.transform(X_test)\n",
    "\n",
    "    y_pred = nbClassifier6.predict(X_test_count)\n",
    "    acc_score = round(accuracy_score(y_test, y_pred),4)\n",
    "    conf_matrix = confusion_matrix(y_test, y_pred )\n",
    "    print(\"The confusion matrix of our best model(model 6) is :\" + '\\n')\n",
    "    print(conf_matrix )\n",
    "    print('\\n' + \"Below is a visual representation of the confusion matrix\")\n",
    "    sns.heatmap(conf_matrix, annot=True, linewidths=.1)\n",
    "    print(\"The model has an accuracy of \" + str(round(100*acc_score,2)) + \"%\")\n"
   ]
  },
  {
   "cell_type": "markdown",
   "metadata": {},
   "source": [
    "# 2.d)\n",
    "\n",
    "## From our original confusion matrix with smoothing value = 1, we can see that book 4 and book 6 are mostly confused with each other. This tells us that these books are most similar to each other. We think JK Rowling's writing style has changed over the years but not that much as some of his books have some sort of similarity. \n",
    "\n",
    "## Certain books might be confused with each other due to the main characters used in the books as most of them contain similar characters."
   ]
  },
  {
   "cell_type": "markdown",
   "metadata": {},
   "source": [
    "# Question 3\n",
    "\n"
   ]
  },
  {
   "cell_type": "code",
   "execution_count": 740,
   "metadata": {},
   "outputs": [
    {
     "data": {
      "text/html": [
       "<div>\n",
       "<style scoped>\n",
       "    .dataframe tbody tr th:only-of-type {\n",
       "        vertical-align: middle;\n",
       "    }\n",
       "\n",
       "    .dataframe tbody tr th {\n",
       "        vertical-align: top;\n",
       "    }\n",
       "\n",
       "    .dataframe thead th {\n",
       "        text-align: right;\n",
       "    }\n",
       "</style>\n",
       "<table border=\"1\" class=\"dataframe\">\n",
       "  <thead>\n",
       "    <tr style=\"text-align: right;\">\n",
       "      <th></th>\n",
       "      <th>1</th>\n",
       "      <th>2</th>\n",
       "      <th>3</th>\n",
       "      <th>4</th>\n",
       "      <th>5</th>\n",
       "      <th>6</th>\n",
       "      <th>7</th>\n",
       "      <th>8</th>\n",
       "      <th>9</th>\n",
       "      <th>10</th>\n",
       "      <th>...</th>\n",
       "      <th>56</th>\n",
       "      <th>57</th>\n",
       "      <th>58</th>\n",
       "      <th>59</th>\n",
       "      <th>60</th>\n",
       "      <th>61</th>\n",
       "      <th>62</th>\n",
       "      <th>63</th>\n",
       "      <th>64</th>\n",
       "      <th>65</th>\n",
       "    </tr>\n",
       "  </thead>\n",
       "  <tbody>\n",
       "    <tr>\n",
       "      <th>0</th>\n",
       "      <td>0</td>\n",
       "      <td>0</td>\n",
       "      <td>1</td>\n",
       "      <td>1</td>\n",
       "      <td>1</td>\n",
       "      <td>0</td>\n",
       "      <td>0</td>\n",
       "      <td>0</td>\n",
       "      <td>0</td>\n",
       "      <td>0</td>\n",
       "      <td>...</td>\n",
       "      <td>0</td>\n",
       "      <td>0</td>\n",
       "      <td>0</td>\n",
       "      <td>1</td>\n",
       "      <td>1</td>\n",
       "      <td>1</td>\n",
       "      <td>0</td>\n",
       "      <td>0</td>\n",
       "      <td>0</td>\n",
       "      <td>0</td>\n",
       "    </tr>\n",
       "    <tr>\n",
       "      <th>1</th>\n",
       "      <td>0</td>\n",
       "      <td>0</td>\n",
       "      <td>0</td>\n",
       "      <td>1</td>\n",
       "      <td>1</td>\n",
       "      <td>1</td>\n",
       "      <td>0</td>\n",
       "      <td>0</td>\n",
       "      <td>0</td>\n",
       "      <td>0</td>\n",
       "      <td>...</td>\n",
       "      <td>0</td>\n",
       "      <td>0</td>\n",
       "      <td>0</td>\n",
       "      <td>0</td>\n",
       "      <td>1</td>\n",
       "      <td>1</td>\n",
       "      <td>1</td>\n",
       "      <td>0</td>\n",
       "      <td>0</td>\n",
       "      <td>1</td>\n",
       "    </tr>\n",
       "    <tr>\n",
       "      <th>2</th>\n",
       "      <td>0</td>\n",
       "      <td>0</td>\n",
       "      <td>0</td>\n",
       "      <td>0</td>\n",
       "      <td>1</td>\n",
       "      <td>1</td>\n",
       "      <td>0</td>\n",
       "      <td>0</td>\n",
       "      <td>0</td>\n",
       "      <td>0</td>\n",
       "      <td>...</td>\n",
       "      <td>0</td>\n",
       "      <td>0</td>\n",
       "      <td>0</td>\n",
       "      <td>0</td>\n",
       "      <td>0</td>\n",
       "      <td>1</td>\n",
       "      <td>1</td>\n",
       "      <td>1</td>\n",
       "      <td>0</td>\n",
       "      <td>2</td>\n",
       "    </tr>\n",
       "    <tr>\n",
       "      <th>3</th>\n",
       "      <td>0</td>\n",
       "      <td>0</td>\n",
       "      <td>1</td>\n",
       "      <td>1</td>\n",
       "      <td>1</td>\n",
       "      <td>0</td>\n",
       "      <td>0</td>\n",
       "      <td>0</td>\n",
       "      <td>0</td>\n",
       "      <td>1</td>\n",
       "      <td>...</td>\n",
       "      <td>0</td>\n",
       "      <td>0</td>\n",
       "      <td>0</td>\n",
       "      <td>1</td>\n",
       "      <td>1</td>\n",
       "      <td>1</td>\n",
       "      <td>1</td>\n",
       "      <td>0</td>\n",
       "      <td>0</td>\n",
       "      <td>3</td>\n",
       "    </tr>\n",
       "    <tr>\n",
       "      <th>4</th>\n",
       "      <td>0</td>\n",
       "      <td>0</td>\n",
       "      <td>0</td>\n",
       "      <td>0</td>\n",
       "      <td>1</td>\n",
       "      <td>0</td>\n",
       "      <td>0</td>\n",
       "      <td>0</td>\n",
       "      <td>0</td>\n",
       "      <td>0</td>\n",
       "      <td>...</td>\n",
       "      <td>0</td>\n",
       "      <td>0</td>\n",
       "      <td>0</td>\n",
       "      <td>0</td>\n",
       "      <td>0</td>\n",
       "      <td>1</td>\n",
       "      <td>0</td>\n",
       "      <td>0</td>\n",
       "      <td>0</td>\n",
       "      <td>4</td>\n",
       "    </tr>\n",
       "  </tbody>\n",
       "</table>\n",
       "<p>5 rows × 65 columns</p>\n",
       "</div>"
      ],
      "text/plain": [
       "   1   2   3   4   5   6   7   8   9   10  ...  56  57  58  59  60  61  62  \\\n",
       "0   0   0   1   1   1   0   0   0   0   0  ...   0   0   0   1   1   1   0   \n",
       "1   0   0   0   1   1   1   0   0   0   0  ...   0   0   0   0   1   1   1   \n",
       "2   0   0   0   0   1   1   0   0   0   0  ...   0   0   0   0   0   1   1   \n",
       "3   0   0   1   1   1   0   0   0   0   1  ...   0   0   0   1   1   1   1   \n",
       "4   0   0   0   0   1   0   0   0   0   0  ...   0   0   0   0   0   1   0   \n",
       "\n",
       "   63  64  65  \n",
       "0   0   0   0  \n",
       "1   0   0   1  \n",
       "2   1   0   2  \n",
       "3   0   0   3  \n",
       "4   0   0   4  \n",
       "\n",
       "[5 rows x 65 columns]"
      ]
     },
     "execution_count": 740,
     "metadata": {},
     "output_type": "execute_result"
    }
   ],
   "source": [
    "nums = np.zeros(65, dtype=int)\n",
    "s = 1\n",
    "t = 0\n",
    "for i in range(65):\n",
    "    nums[i] = i+1\n",
    "    \n",
    "\n",
    "digits = pd.read_csv(\"https://github.com/Phaswamotse/Machine-Learning/raw/master/smalldigits.csv\", names = nums)\n",
    "print(\"below is the first 5 rows in our dataset\")\n",
    "digits.head(5)\n"
   ]
  },
  {
   "cell_type": "code",
   "execution_count": 741,
   "metadata": {},
   "outputs": [],
   "source": [
    "#convert our dataset into an array so it can be fed into the model\n",
    "digits = digits.to_numpy()\n",
    "\n",
    "#use the first 80% of the dataset as the training data and the last 20% as testing data\n",
    "\n",
    "x_train = digits[:1438, :63]\n",
    "y_train = digits[:1438, 64]\n",
    "\n",
    "x_test = digits[1438:1797, :63]\n",
    "y_test = digits[1438:1797, 64]\n",
    " \n",
    "    \n"
   ]
  },
  {
   "cell_type": "code",
   "execution_count": 742,
   "metadata": {},
   "outputs": [
    {
     "data": {
      "text/plain": [
       "(359, 63)"
      ]
     },
     "execution_count": 742,
     "metadata": {},
     "output_type": "execute_result"
    }
   ],
   "source": [
    "x_test.shape"
   ]
  },
  {
   "cell_type": "code",
   "execution_count": 743,
   "metadata": {},
   "outputs": [
    {
     "data": {
      "text/plain": [
       "MultinomialNB(alpha=1.0, class_prior=None, fit_prior=True)"
      ]
     },
     "execution_count": 743,
     "metadata": {},
     "output_type": "execute_result"
    }
   ],
   "source": [
    "import matplotlib.pyplot as pt\n",
    "\n",
    "clf = MultinomialNB(alpha=1.0)\n",
    "\n",
    "clf.fit(x_train, y_train)"
   ]
  },
  {
   "cell_type": "code",
   "execution_count": 744,
   "metadata": {},
   "outputs": [
    {
     "name": "stdout",
     "output_type": "stream",
     "text": [
      "Our model has an accuracy of: 0.7967\n",
      "Its confusion matrix is given below\n",
      "[[33  1  0  0  0  0  0  0  1  0]\n",
      " [ 0 20  0  0  1  0  0  0  8  7]\n",
      " [ 1  1 30  0  0  0  0  0  2  0]\n",
      " [ 0  3  1 24  0  1  0  2  4  2]\n",
      " [ 0  0  0  0 33  0  0  1  3  0]\n",
      " [ 0  0  0  0  0 31  1  0  0  5]\n",
      " [ 0  2  0  0  0  0 35  0  0  0]\n",
      " [ 0  0  0  0  2  1  0 31  2  0]\n",
      " [ 0  6  0  0  1  0  0  1 23  2]\n",
      " [ 0  2  0  2  0  2  0  4  1 26]]\n",
      "\n",
      "This means that the model has a 79.67% chance of predicting the output of the data being fed into it correctly\n",
      "\n",
      "Here's the confusion matrix in its visual form \n"
     ]
    },
    {
     "data": {
      "image/png": "[encoded data removed]",
      "text/plain": [
       "<Figure size 432x288 with 2 Axes>"
      ]
     },
     "metadata": {
      "needs_background": "light"
     },
     "output_type": "display_data"
    }
   ],
   "source": [
    "y_pred = clf.predict(x_test)\n",
    "\n",
    "acc_score = round(accuracy_score(y_test, y_pred),4)\n",
    "conf_matrix = confusion_matrix(y_test, y_pred )\n",
    "print(\"Our model has an accuracy of: \" + str(acc_score) + '\\n' + \"Its confusion matrix is given below\")\n",
    "print(conf_matrix)\n",
    "\n",
    "sns.heatmap(conf_matrix, annot=True, linewidths=.1)\n",
    "\n",
    "print('\\n' + \"This means that the model has a \" + str(round(100*acc_score,2)) + \"% chance of predicting the output of the data being fed into it correctly\" )\n",
    "\n",
    "print('\\n' + \"Here's the confusion matrix in its visual form \")"
   ]
  },
  {
   "cell_type": "markdown",
   "metadata": {},
   "source": [
    "## The above results produced by the model are quite reasonable as there were many digits predicted correctly and we can confidently say that it's a good model in general.\n",
    "\n",
    "## The results might be improved by using a different split ratio, say maybe a 70/30 split to better get a clear indication of how well it is perfoming."
   ]
  },
  {
   "cell_type": "code",
   "execution_count": null,
   "metadata": {},
   "outputs": [],
   "source": []
  }
 ],
 "metadata": {
  "kernelspec": {
   "display_name": "Python 3",
   "language": "python",
   "name": "python3"
  },
  "language_info": {
   "codemirror_mode": {
    "name": "ipython",
    "version": 3
   },
   "file_extension": ".py",
   "mimetype": "text/x-python",
   "name": "python",
   "nbconvert_exporter": "python",
   "pygments_lexer": "ipython3",
   "version": "3.7.6"
  }
 },
 "nbformat": 4,
 "nbformat_minor": 4
}
